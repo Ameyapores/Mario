{
  "nbformat": 4,
  "nbformat_minor": 0,
  "metadata": {
    "colab": {
      "name": "Fellowship_ai.ipynb",
      "version": "0.3.2",
      "provenance": [],
      "collapsed_sections": [],
      "include_colab_link": true
    },
    "kernelspec": {
      "name": "python3",
      "display_name": "Python 3"
    },
    "accelerator": "GPU"
  },
  "cells": [
    {
      "cell_type": "markdown",
      "metadata": {
        "id": "view-in-github",
        "colab_type": "text"
      },
      "source": [
        "[View in Colaboratory](https://colab.research.google.com/github/Ameyapores/Mario/blob/master/Fellowship_ai.ipynb)"
      ]
    },
    {
      "metadata": {
        "id": "0UIT4pJUAlPo",
        "colab_type": "text"
      },
      "cell_type": "markdown",
      "source": [
        "#One shot learning siamese network for omniglot dataset\n",
        "\n",
        "###Implementation of the following paper\n",
        "Siamese Neural Networks for One-shot Image Recognition (Gregory et.al)\n",
        "\n",
        "##Requirements\n",
        "\n",
        "\n",
        "1.   Pytorch >= 0.4.0\n",
        "2.   Python 3.5+\n",
        "\n",
        "\n",
        "###Step1-\n",
        "Download the Omniglot dataset and unzip it in the workspace. Save the data in two folders 'images_background' and 'images_evaluation' respectively. \n",
        "\n",
        "\n"
      ]
    },
    {
      "metadata": {
        "id": "YePY9Rdd_MQZ",
        "colab_type": "code",
        "colab": {
          "base_uri": "https://localhost:8080/",
          "height": 34
        },
        "outputId": "32e24cb5-cce2-4e62-99cd-dd171740585c"
      },
      "cell_type": "code",
      "source": [
        "from google.colab import drive                               # connecting Google drive to colab so that we can download the data from drive\n",
        "drive.mount('/content/drive')"
      ],
      "execution_count": 29,
      "outputs": [
        {
          "output_type": "stream",
          "text": [
            "Drive already mounted at /content/drive; to attempt to forcibly remount, call drive.mount(\"/content/drive\", force_remount=True).\n"
          ],
          "name": "stdout"
        }
      ]
    },
    {
      "metadata": {
        "id": "4_FSTvQT16ph",
        "colab_type": "code",
        "colab": {
          "base_uri": "https://localhost:8080/",
          "height": 34
        },
        "outputId": "1277d109-4dcd-4e96-9579-c9c10b1bf8b2"
      },
      "cell_type": "code",
      "source": [
        "!ls \"/content/drive/My Drive/Colab Notebooks/Dataset\"         # Entering the folder containing the .zip file dataset\n",
        "!mkdir Workspace                                              # Creating a workspace"
      ],
      "execution_count": 30,
      "outputs": [
        {
          "output_type": "stream",
          "text": [
            "images_background.zip  images_evaluation.zip\n"
          ],
          "name": "stdout"
        }
      ]
    },
    {
      "metadata": {
        "id": "H1UkiTIbzkvt",
        "colab_type": "code",
        "colab": {}
      },
      "cell_type": "code",
      "source": [
        "!unzip \"/content/drive/My Drive/Colab Notebooks/Dataset/images_evaluation.zip\" -d Workspace              #unzipping the images_evaluation.zip file to the workspace under the file 'images_evaluation'\n",
        "!unzip \"/content/drive/My Drive/Colab Notebooks/Dataset/images_background.zip\" -d Workspace              #unzipping the images_background.zip file to the workspace under the file 'images_background'"
      ],
      "execution_count": 0,
      "outputs": []
    },
    {
      "metadata": {
        "id": "PWZVLxHoDofd",
        "colab_type": "text"
      },
      "cell_type": "markdown",
      "source": [
        "##Deep Siamese Networks for Image Verification Siamese  nets  were  first  introduced  in  the  early  1990s  by\n",
        "Bromley and LeCun to solve signature verification as an\n",
        "image matching problem. A siamese\n",
        "neural network consists of twin networks which accept distinct inputs but are joined by an energy function at the top.\n",
        "This function computes some metric between the highest-\n",
        "level feature representation on each side. Also, the network is symmet-\n",
        "ric, so that whenever we present two distinct images to the\n",
        "twin networks, the top conjoining layer will compute the\n",
        "same metric as if we were to we present the same two im-\n",
        "ages but to the opposite twins.\n",
        "\n",
        "The\n",
        "aim is to  first  learn  a  neural  network  that  can  discriminate\n",
        "between  the  class-identity  of  image  pairs,  which  is  the\n",
        "standard\n",
        "verification\n",
        "task for image recognition.  The verification model learns to identify input pairs according to the\n",
        "probability  that  they  belong  to  the  same  class  or  different classes.  This model can then be used to evaluate new\n",
        "images, exactly one per novel class, in a pairwise manner\n",
        "against the test image.  The pairing with the highest score\n",
        "according to the verification network is then awarded the\n",
        "highest  probability  for  the  one-shot  task.   If  the  features\n",
        "learned by the verification model are sufficient to confirm\n",
        "or deny the identity of characters from one set of alphabets,  then they ought to be sufficient for other alphabets,\n",
        "provided that the model has been exposed to a variety of\n",
        "alphabets to encourage variance amongst the learned features.\n",
        "\n",
        "![alt text](https://encrypted-tbn0.gstatic.com/images?q=tbn:ANd9GcSSwvBEkgxbobnwkoXjPgxe8UAqv85zU6U5eEyT6KM1feyfO3lu)"
      ]
    },
    {
      "metadata": {
        "id": "tCuBX__j37AZ",
        "colab_type": "text"
      },
      "cell_type": "markdown",
      "source": [
        "###Step2-\n",
        "Importing all the libraries, dependencies and the framework required\n"
      ]
    },
    {
      "metadata": {
        "id": "9FFvnEdZz-ur",
        "colab_type": "code",
        "colab": {}
      },
      "cell_type": "code",
      "source": [
        "!pip install torch torchvision\n",
        "!pip install Pillow==4.0.0\n",
        "!pip install image"
      ],
      "execution_count": 0,
      "outputs": []
    },
    {
      "metadata": {
        "id": "TeIdc_LalRUd",
        "colab_type": "code",
        "colab": {}
      },
      "cell_type": "code",
      "source": [
        "import torch\n",
        "from torch.utils.data import Dataset, DataLoader\n",
        "import os\n",
        "from numpy.random import choice as npc\n",
        "import numpy as np\n",
        "import time\n",
        "import random\n",
        "import torchvision.datasets as dset\n",
        "from PIL import Image\n",
        "import pickle\n",
        "import torchvision\n",
        "from torchvision import transforms\n",
        "from torch.utils.data import DataLoader\n",
        "from torch.autograd import Variable\n",
        "import matplotlib.pyplot as plt\n",
        "import time\n",
        "import torch.nn as nn\n",
        "import torch.nn.functional as F\n"
      ],
      "execution_count": 0,
      "outputs": []
    },
    {
      "metadata": {
        "id": "SxxS-5Ze0-pO",
        "colab_type": "text"
      },
      "cell_type": "markdown",
      "source": [
        "##Omniglot dataset\n",
        "\n",
        "The Omniglot data set was collected by Brenden Lake and\n",
        "his collaborators at MIT via Amazon’s Mechanical Turk to\n",
        "produce a standard benchmark for learning from few examples in the handwritten character recognition domain.\n",
        "Omniglot contains examples from 50 alphabets ranging from well established international languages like Latin and Korean to lesser known local dialects. The number of letters in each alphabet varies considerably\n",
        "from  about  15  to  upwards  of  40  characters\n",
        "\n",
        "![alt text](https://cdn-images-1.medium.com/max/1600/1*sAGJLAeomb8Qp1iDMEq96A.png)\n"
      ]
    },
    {
      "metadata": {
        "id": "zwq28JM0D3Ye",
        "colab_type": "text"
      },
      "cell_type": "markdown",
      "source": [
        "###Step 3\n",
        "Creating a class which takes two random images and gives it a label =1.0 if they belong to the same class or label= 0.0 if they belong to different class. Each pair is given a specific index."
      ]
    },
    {
      "metadata": {
        "id": "lEruwk6c5uOf",
        "colab_type": "code",
        "colab": {}
      },
      "cell_type": "code",
      "source": [
        "class OmniglotTrain(Dataset):\n",
        "\n",
        "    def __init__(self, dataset, transform=None):\n",
        "        super(OmniglotTrain, self).__init__()\n",
        "        np.random.seed(0)\n",
        "        self.dataset = dataset\n",
        "        self.transform = transform\n",
        "        self.img1 = None\n",
        "\n",
        "    def __len__(self):\n",
        "        return  21000000\n",
        "\n",
        "    def __getitem__(self, index):\n",
        "        image1 = random.choice(self.dataset.imgs)\n",
        "        # get image from same class\n",
        "        label = None\n",
        "        if index % 2 == 1:\n",
        "            label = 1.0\n",
        "            while True:\n",
        "                image2 = random.choice(self.dataset.imgs)\n",
        "                if image1[1] == image2[1]:\n",
        "                    break\n",
        "        # get image from different class\n",
        "        else:\n",
        "            label = 0.0\n",
        "            while True:\n",
        "                image2 = random.choice(self.dataset.imgs)\n",
        "                if image1[1] != image2[1]:\n",
        "                    break\n",
        "        image1 = Image.open(image1[0])\n",
        "        image2 = Image.open(image2[0])\n",
        "        image1 = image1.convert('L')\n",
        "        image2 = image2.convert('L')\n",
        "\n",
        "        if self.transform:\n",
        "            image1 = self.transform(image1)\n",
        "            image2 = self.transform(image2)\n",
        "        return image1, image2, torch.from_numpy(np.array([label], dtype=np.float32))\n"
      ],
      "execution_count": 0,
      "outputs": []
    },
    {
      "metadata": {
        "id": "7BCJ1lJ06l4m",
        "colab_type": "code",
        "colab": {}
      },
      "cell_type": "code",
      "source": [
        "class OmniglotTest(Dataset):\n",
        "\n",
        "    def __init__(self, dataset, transform=None, times=200, way=20):\n",
        "        np.random.seed(1)\n",
        "        super(OmniglotTest, self).__init__()\n",
        "        self.dataset = dataset\n",
        "        self.transform = transform\n",
        "        self.times = times\n",
        "        self.way = way\n",
        "\n",
        "    def __len__(self):\n",
        "        return self.times * self.way\n",
        "\n",
        "    def __getitem__(self, index):\n",
        "        idx = index % self.way\n",
        "        label = None\n",
        "        # generate image pair from same class\n",
        "        if idx == 0:\n",
        "            self.img1 = random.choice(self.dataset.imgs)\n",
        "            while True:\n",
        "                img2 = random.choice(self.dataset.imgs)\n",
        "                if self.img1[1] == img2[1]:\n",
        "                    break\n",
        "        # generate image pair from different class\n",
        "        else:\n",
        "            while True:\n",
        "                img2 = random.choice(self.dataset.imgs)\n",
        "                if self.img1[1] != img2[1]:\n",
        "                    break\n",
        "\n",
        "        img1 = Image.open(self.img1[0])\n",
        "        img2 = Image.open(img2[0])\n",
        "        img1 = img1.convert('L')\n",
        "        img2 = img2.convert('L')\n",
        "\n",
        "        if self.transform:\n",
        "            img1 = self.transform(img1)\n",
        "            img2 = self.transform(img2)\n",
        "        return img1, img2\n"
      ],
      "execution_count": 0,
      "outputs": []
    },
    {
      "metadata": {
        "id": "VjzXCAWBoz2C",
        "colab_type": "text"
      },
      "cell_type": "markdown",
      "source": [
        "##Model\n",
        "\n",
        "\n",
        "\n",
        "![alt text](data:image/png;base64,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)\n",
        "\n",
        "\n",
        "The model consists of a sequence of convolutional layers,\n",
        "each of which uses a single channel with filters of varying\n",
        "size and a fixed stride of 1.  The number of convolutional\n",
        "filters is specified as a multiple of 16 to optimize performance.   The network applies a ReLU activation function\n",
        "to  the  output  feature  maps,  optionally  followed  by  max-\n",
        "pooling with a filter size and stride of 2.\n",
        "\n",
        "The units in the final convolutional layer are flattened into\n",
        "a  single  vector.   This  convolutional  layer  is  followed  by\n",
        "a  fully-connected  layer,  and  then  one  more  layer  computing the induced distance metric between each siamese\n",
        "twin,  which  is  given  to  a  single  sigmoidal  output  unit.\n"
      ]
    },
    {
      "metadata": {
        "id": "awBztRXa6yJO",
        "colab_type": "code",
        "colab": {}
      },
      "cell_type": "code",
      "source": [
        "class Siamese(nn.Module):\n",
        "\n",
        "    def __init__(self):\n",
        "        super(Siamese, self).__init__()\n",
        "        self.conv = nn.Sequential(\n",
        "            nn.Conv2d(1, 64, 10),  # 64@96*96\n",
        "            nn.ReLU(inplace=True),\n",
        "            nn.MaxPool2d(2),  # 64@48*48\n",
        "            nn.Conv2d(64, 128, 7),\n",
        "            nn.ReLU(),    # 128@42*42\n",
        "            nn.MaxPool2d(2),   # 128@21*21\n",
        "            nn.Conv2d(128, 128, 4),\n",
        "            nn.ReLU(), # 128@18*18\n",
        "            nn.MaxPool2d(2), # 128@9*9\n",
        "            nn.Conv2d(128, 256, 4),\n",
        "            nn.ReLU(),   # 256@6*6\n",
        "        )\n",
        "        self.liner = nn.Sequential(nn.Linear(9216, 4096), nn.Sigmoid())\n",
        "        self.out = nn.Linear(4096, 1)\n",
        "\n",
        "    def forward_one(self, x):\n",
        "        x = self.conv(x)\n",
        "        x = x.view(x.size()[0], -1)\n",
        "        x = self.liner(x)\n",
        "        return x\n",
        "\n",
        "    def forward(self, x1, x2):\n",
        "        out1 = self.forward_one(x1)\n",
        "        out2 = self.forward_one(x2)\n",
        "        dis = torch.abs(out1 - out2)\n",
        "        out = self.out(dis)\n",
        "        #  return self.sigmoid(out)\n",
        "        return out"
      ],
      "execution_count": 0,
      "outputs": []
    },
    {
      "metadata": {
        "id": "Ecao-29a7UXN",
        "colab_type": "code",
        "colab": {}
      },
      "cell_type": "code",
      "source": [
        "cuda = torch.cuda.is_available()\n",
        "print(\"Cuda: \" + str(cuda))          #Checking if CUDA is available"
      ],
      "execution_count": 0,
      "outputs": []
    },
    {
      "metadata": {
        "id": "WF7vVGUDFXNG",
        "colab_type": "text"
      },
      "cell_type": "markdown",
      "source": [
        "##Affine distortions\n",
        "\n",
        "Augmenting the training set with small affine distortions.  For each\n",
        "image  pair\n",
        "x\n",
        "1\n",
        ",\n",
        "x\n",
        "2\n",
        ",  we  generated  a  pair  of  affine  trans-\n",
        "formations\n",
        "T\n",
        "1\n",
        ",T\n",
        "2\n",
        "to  yield\n",
        "x\n",
        "′\n",
        "1\n",
        "=\n",
        "T\n",
        "1\n",
        "(\n",
        "x\n",
        "1\n",
        ")\n",
        ",\n",
        "x\n",
        "′\n",
        "2\n",
        "=\n",
        "T\n",
        "2\n",
        "(\n",
        "x\n",
        "2\n",
        ")\n",
        ",\n",
        "where\n",
        "T\n",
        "1\n",
        ",T\n",
        "2\n",
        "are  determined  stochastically  by  a  multi-\n",
        "dimensional uniform distribution. \n",
        "\n",
        "![alt text](data:image/png;base64,iVBORw0KGgoAAAANSUhEUgAAAZQAAAB9CAMAAACyJ2VsAAAAjVBMVEX///8AAAD8/Pz5+fn29vbz8/Pu7u7r6+vm5ube3t68vLzi4uLt7e3R0dGVlZXo6OilpaWEhITW1tY9PT20tLTIyMhmZmahoaG6urp8fHzDw8PNzc12dnacnJyPj49fX18xMTE/Pz9SUlIjIyMuLi5HR0d/f39ra2sZGRlZWVlKSkooKCgPDw8LCwsWFhY/f0LTAAAgAElEQVR4nO09h5ajupIUyQSDRbYxGWOc///zViIZhNT2vDv7dt9u1znTPU0UlatUKgnCL/zCL/wB7NT+t2VSJ9RYZt4Q9BdudfpEf0A11OVhU/xnA/z/CIe8+5WCT50IQCO/zGR5QoSU/NKhkagbgPzwIacOP60/HFGsfX/trvnDhwuS+vma4Ur3T5/91yDCuJSiNYoFC/Dw0xYQJTBXJGz8ENDqSfhB2s2bf0kaHUWh7YmifDsgEWzW4a3BOirBatwDWLBjHjfhC6rY5JutE++0/mAcVA6cTwyAVkL9O/bc17sZ5OHrZc11jBJeMdygygvwZySxcgKNd4cSrd+jQ3jrpej93gLq8IQlTfFbYCtDBuRMokQV8+KKeTEG5UkP0eq4Y8NG0RLuGf6ReKzBxfhHRmkDg8j2FjarMSRb/PMITNGPbsxXn++nJwCcfXXJbpLvbnaq3SqbzQKTRuMjpAFSVrymOsULwDfXJ1wfoC7wW2IeS78h6N92ZuJZoamqEcQJqF1dGfX6toio46hDpfpay/gKcgf/SO6MM0/8VJlW9bcr/iHeV0TpWcZasYFG8GQUrDdrjX/En0BEUTfi1emI6AtxbaUvSI9jY2Hmw8vNF41KkON9Y2+p6xNLQOlnimChhV7RJUuimP3gZZrf3Av5NHNNFHTr9EiW0CcgwD+kcnV8DYeWcD7LQwGsnuOCOtij3VsTJSV21l/ZvaQmAwEyTOXIen8M9gPAq580K6OWiBEk1GGx9qAoSyhn5NcIE+9vOXjhoQF7ydLO8UtzIkHP25fMT+cm69b/Pz9Q17dEKZv3FepU6MwPWpmbOyGKkDifh3LAhHOK7W6PLtXS3GM7I72Q5EZRNENnHXc2WNqhBOaPdwlRskxQAvtZvPlYIfbOwkSxHICM8f4NQGpuiMEvl8hD4KtbNXjdqW+7AhmN7NBPM+CqD/ctjjtXqBymlaZAunQ8rJfgZdFMEfpF9yunkWmQAcinwD0uTboKndjbL/oFvSTabF2+gNbLnFcJcGnTw30u+lhs5RAOcEnsambkQjw2vwruGMXRaTZOjXhRdVZhG5Ee4I3fDBEBIvZcO9a020ugGpC7uTYLqkSDFglPS15Mz/1vC5Yqbw/Df5x6cYMBrV9B89nPFTH/uMn11FA2xa27X3q19/35k+NOc90uWJoX18udmsJcltv+yOZJYuchNGffEBI8Hp/tmb1HAi12O32ZvG7hSpSAzXDq+yZh9ze32qGfYxqmhkII8abKBrKqxsf3hF3b9/F9iZm7hqshknEydHs4umYKLCIKd9RP7VJtu+OHxkvH0B85R4aFs6d2utkH4ROoePgYYbuZMZAVRQ5a8IqiOOGTL5irMAM8fOx5mR0SM9u5wAj1ZfKujaTOEdjh8wEPQAB8d7QD0KwJGdl1fsI8wqi2Zsg8wPMw4dGqpy8KoYiLUaMEz+mGo2ecIB8Q2QQ/DeXA1rYWJxYQl5ZQGeVMeiz9G6c74Xs/+sSb+AZgdJegNxbSsmlau9mZGDSYKXHVTTA98sDS3Dm1pbK6WTHsNXy9Sgcqo8H9zB5CnCfTNwTz60F/64cJ924NTwFN+mEaaAw54JOTJn5N2kIiocLI9OhHfWqz/RKVF2LA2mXr38jSkoJNh/ozcAvwzukgantYWqBkYMHT7HUBHNC+v/5Ev+04YPFKeQb+EETB5xQDNrQnY2AyfWYLhCdUE45HEZUemeLZs5DXCYcLHMG53996+zrKjP64qDM9M5f1FUQVM03FJwrLcSAuB1OyxB/E1PdjUagIdo9pdaL8+mrAOros7VLQy96eDq9H3jpTJ3zUe6C3z+5XcNojgmXfw/fcZswAtydhRdS4gj7iknh7OkAR4e8TfSQL7sB+gC3JA5rQl8gX4rsGYlng5/mt/yoDh+Eek4nHr2cjecclClszcwRIcNYhxQKeGuHyq32kck4dURpsVmB5ojP0dtYAlRq1iYRUr5q2HAUiz/c8qIUPIJJPwE/1H/vay+ZaOhFUSxIOTQZtMuoVifhPpxzdS2I6vVeRDIrzkpHYyDqkIjY6RX0LBwTYWJQbeJ1yCbuqOMAAOsydfwz9dcMIK47eCQvm4SsP95sPypwIiDwKye4tbR1RNAJLQQ5gg1VlkyFKMDuiuJZ1TJfMRPSciJ9ifUw0ioNMY09eDZ7zYXcjcEERteqtD6654mMdJ0vYV0pFzYAhzkUnuxo8R5AlE41eov0gyHaJ5JaBuDue2BkkAjGH8b0LO/hzgBmMpqyMUQ8/54uNSSBVY+/BW9flPFepwAyprFUlLxBBbEXwA2SYv6R8xUsGjoDM6n14V4whoHQl/kE2GEXp7Jz7b9qSb1PHBDrJUIa9KvO6qBN4bKLc6Yi5h/LB9r1StpZCP+T7fiYK6hJ6lp9eAUI0G+YRjHgCY3bizn6VUbCP+5Ckfiz/wfSOC3kK1yfNFBr23CFmJrP32AG5vM5gG0vXrz1FCBwYEsn5tal7YcrAjy5Wiv13VuQUQMISCDe/MGmiOGwXK/H4QaL1s9tjkai3Bs+h51P0JPcmmKcZSZ5A2e2j8+GQzMLuHcAhIXA4LE7s4iz0MFPf8GH7x9hgAtcwjmSKKFvgRgxi7LzHmHfWH2u0SbbDLlNxXRxW7KQNhKCEingZUhqPvBV6Of4izHVr06E7jPkRrAiiwmYZeaktbyxu9MMrnw+1S/Mjk6pt2yKdadY4gKC6kti7dWxj/uiN7hKwbAwZzVO6rluZ3f5gW1eguwmLhvIx/SGrx5ZW85gyj7NAZU8sZespgh4S9oSfwZ1yIh7x5efcxp+DrBu+/E3++Rd+4Rd+4Rd+4RdWIP2tgi3565qJX/gE2Z8WbPEg6fxP/W87X/8PwF+RIO+OaBkV6XehhMsI54eE+yrxodZkni5jR5sUaFzK/UkAQ2DzdaHZD2CxhsMM3X6ALSeelmK+KjqSBOKxuc3eb/lxHLs1jjojHINSKS4bhz9twSBKlwwS/UUKLcAP8u9BnL++mA8WSDqCE3cgoKtkSP6pQ4+YsgI1h5Og175Tyl2pnEhV0PQ5HnbeFgMncYuu62MkGFVrfozl3IVdAotqPKefTj1dHtCuso526FzOSwzFCIMPPopOdRnMWFQeZ2Yz9zvGRezCtWnifQFan2eTgFWWEZ2Yb5ROnHiYgpxkOPbFkoJZx3cnHlFWlRranXANYhCLTJypBZ8oB2ju5+UHKJvNRk09TdfpL9CQB+DTRxN4PB4Arwf4u+Vn7Dbb3U1X11zOg4pmcHHIS1zD9cVNhx7xvtC8ctUNz3zSqkfqjjvfJVhaomwTOq9ck2d6a1vblebq66mJbt7eZ0hKi1lM5WkF18+h0AVx7yc+lT9m1B7uKnB8rL6O/jWZ6y9RkiTB52TMZc903c8+g90XyaCCOi4OcmAspgSq7LgTNv1ErfRcCJHo9Smj06pstXs0bSLZIJHZQLlTmXO5CMnMR7mWlG6i1+iJMj/rkKHkjLTiOSPzS5iBJboqzrRLQG4Yxw7c/LSEcHEelXeieBbmmfyROoUX+Sl4lHLen9IMw4oRDYDnE/izLAOofQ5ZWU1YD+WdynyqHCvMGtqwz3crr+V3+X1h9nOFu4owkv5xJARcMlkEvrm3q3lW3SJ4B1fQ8eF5+g+RqvEzHqhvw7yeOi0xaeujoJLHzGt6yZR12Jr+GaBe+g3oTAxGHoKx6T97QQAE6Hg8olWqMuovU25UvtMAm5j1JqcKijNiGDfexxK4obDCS1InnBuyYTZaJkSZM79s3G/QIkUIqBkfs+fYauXt2d8TxSr9c/gs4JYZVj4bOpDxtBjDYeDMdFuKB6eerOwKqbWfTTQRIvqQ1BD6ljPXbigU0CWHG7LEdqkjexKFEwmXNYhR/5cGlJaPi/6+HaVC/YHHo9NSmYe9+ik+FUl2VSPH+FKfnUXpsQpHOQ4CA5qyWLCND8rmeG6bU20sREUDfHlwrO63ZjndZRNau3A4nz85tfumdBr8mO65u5mMQlhigkQm0Wvemyv3IBi3Jxy6yu3sLUMu5CU0jt4N4zpTIuhZ5NB7jTorFV9NKi9aoN8fCB5QLqA5XkXVH2gjeztLbyPv3+l/rKuG/IbVZbF8nRU0owfXCtJCJAYyY+XrQdijWQ2Oh2q8/rU39hM63WNWngan0is/uIISQOy+VcTEfVsHHkk2/qm/168Y8Lw8RhpZj1Gx72uozMk3jN/ESuGRJoMAihcGUbKJsVO2a19w5rZrjveqM6ecjZ+IIm/3GcD14GLcNm8Hg0yTnkLoXRCNWu3jjk7yvhLkwU+yrnl4QM8OKZvHwsvPQ+fcoSf8oq5ZhrZ9C+UoKaL3qEJ1shnyNDEY3As/mJx5cyxeOD8SmJUIKVOo5TzbUpwExOEtsSGg3tnz9z672EJkLWciID1Zs5g/SkoOFyf2eu6wLpNF0a3dRtgOM2cKVYnTLUgwbX1rUC6n3fOWvOKNvvDM5teOvCHBckZQSARQHKfuVIzHS/tWZmiQGae55tpbwJWhZFsBU7xen/ok3pfR2FSG4DXX8TnGD1U+4p1DMYtd9+XwlhuKzKnl9Cd+kEhu5tIbAKNaRiTaiBO0VGydNpCwt1NR6wLsgXgJ/bG9aEmcdXdzEO9NDsRjbVpRmApjVczqJkAyokPuB7R9CfID+pUOWhi5Qt4TpXfVsEImS9nIsXpEwZ3IOX6QKMhYIJUfiOLw5tdTJo+73LWD7CIjluZcArHKFh7rbRm7ax1rduXdC9bPhz+llho4Icqusx7UCwhRsH/+xaLHEAufRMq4kgKq66TV8wAT5hBCSDTrxe8KhPC79sTFxHDErz2Q//QfIGKaxSC4SMeO/qGE4jUqPmzyIxBSrKdvOamM4Y4j4471xAy3Qt4qtYg5se9+qMQTBuleB2ZaJ6i6vrJgVgnnHYORCFFEHQMdPTIyNWyQBiVAQjzl9BZQ+7S1sI+JX4oti39/nbrrNlk3dgkP8EQMiD0yT4VtSo+lkPApmvRvm5n9CaUW5KDgoua6Xh48PoFZyeUwsh4E5NuFRVz0BXsmM9ugHyca7Pi41OLidV4lC2xerfCZWT34AzgpiWtmOMOenTMMSiXBV2ee1CKvbj32Tmd8w32shJTccdlITFShD6MLs2mHKF8mqjnkEcXjmuGEWa2FSvbVPjANkP+FHh8KyfXgcKkXmYSwx4Plutbe9/3l85X9E9rlCF1GQrkDGy4DPL8rlnSgvmOF9NYJoqIMokmWMB/7YF+6JdnAcjHca9ADHKZ7Sx/PhvoFFjguxfpeus+r+swSCP915o3LB3utIaQb20KkOZureRWxSxCfXnv3sGecxtYczT54hUeq6DBUVU7HGOLxDEU0+ywTHu/ivftMH2rHCb7rW2Ai39ExW96zFU/FUHiQh1QxpnSw/UCQj5ZxXWrbDfJ9Xdjn8FxqmOBaJZsjvNbpB2EbcHRXULGnpgJ2gtFMWAKhtfdvljziDzX8QDdX5JZ01yIWgiwcYt9o6rq4/PMN/7wuTNaNZK340PmMRIFeCvgJdIuFOVP/vs55dxvWlv4jsC8/FRL+h4P47y8/+Cvlh/H3hZq/8Au/8Au/8Au/8Dehd4uuH2bQv62ii3ofPF4uQpT7QqD3Ovv/dOA6XMpfccWke+JjR5635K5vSKQ7yz4g23PvJsur7AtpG7Mz88ZeEqVQyIIrv/6ujER0WTwgO/yyMfOPSi8V59vWeOLquUp3hBHoCTrhuISdetrwwgqRvbAoQA0UzGZj5B6S39FDuqpqmEpz13m0gqQTYFUE44kk4uEutqTABWbGZ7Xw8A3rNxJIOajYMavEWKCvUkn9pKPNSDHlZNAte6064k3gWNxyAcV4PMB37aycT1eIkiySXibwmvWoEWUMkgu+uL0uylyUfJhphXKB+uvUJiX8npuBmZSOGG0ZhsZgeyaDtmsqds0fxOYLomgkN8oosXiQey1Gbi0gc+M3migm8IrxOqT+EMYjEPZlc7slwYT+rXeHZwlNHizYTS/KsmxquJXldSF5ehVYplmvjEZHCU5bPsZABhxTkqL3mpqRSkX9JCA9M7rtjqL1cPoMXPJFMCvWGPvmWiLOZBQigyjbAv+4rxRjS3KZaM00Vpfzb/k5mhytFIumb1TxeCJJmfWq1YjTvMCo9cBvrisRznI9wPDZCA44jqnZ3UFyGMlqpZ8PoInSNTcQjuvEdNphZ88oWFzBHuPLZmgXQpQNgyibom/UpB7jOS+8i/GkxXxQV3OhdpMcW4uR2912hSKMmQbUYJ3kFasGLGnY1YscaCwbAMXJaYBOOGf4eFHA536aQ1kHXWFh9kXB17Wf4PfTBD6l74YS42JFlH2nR5IvekgKAf7qKiElocuaPsIhSSXpNjxhrgFUT5Aav8R4uc9JSWbxNdDV4wMWRrVr5Er6mFkkK75Ow/tguHELzirNdcaWxiQcRzFiBA5ZDx3S+ePG65B3pA1p1qXzZQSf1MYweR6XgrRYr1R0L9JPduZNdiJMsgzlgLp6WUpnD+0K7yt/LerIjRn6ix6jmbA5tTVUx2hR5H2t/PZS1JjPUreeTaYZcL9j3jYsSyhneLFAUDPATJwdXTTr8dIVfZxQe6kzN3it/YN99wxtVQi5G5GuU5OGQ5cN6bhswjJ1YPKfy+udgaNiXiOdCZ6ub9tpi5lwIZ452uDDHjhONnGtbuO/vGtWnKB6PCEPZ2yIR77dbRFc8+vEB2buJFcPmjB0SOe266d1GbHn1Zj5iMg1M48BO6uQPFq00/DHyu1oLNwaSt9r+4das8aARyw4UCGzE91Zw9LAE6IDlMgiijAreKPQ6OkpbSS4SBXjTQ1w5UUTNne83qLm6KfrDz90D2qTJCm7bnZ1AdZm1i5H98n01uXi17SkaVghKMrG9ytlHw1jjMMEY7P2iuJ0d7baNHKVLNYIHfLTAdmIPjiDDoRxObxv1gUtg1shHSc95I4IQGncTIUk6qS/pPAF+2BC7KxE3YdTNbV8tvl4oRsgTyDWvDqUFzMcNHidqDbMnrI9gNeidKDmTP8FKcJ2rZdIRBureFjfMTf0VhqhoT3M2lOuevR8LuEwLs716A2MYU3XS3dHOGVTSylBuQy87+vCKR+Hp06NhJIyAuk2aTNxUjlxfvCzakSTzR+QyaMXr1shc7EEOcptP/+h63079i57i4TR+tYYcZgn6vaI8IS2E4JieVzrQxrpRDlJ1qBgP/cSx29qIRrdqPfSh0Iny6CM6bm7oSvkXhGqx4uUCsjau0v1Br/o3DzMCX2nURHuAfnvZVw/EEXnlKcI7A4hBA7M4IcT12J4/EyUCzntWm5CrXDqatss6+gVy+tzLFFiCfeQ6nHlJsTiHYMH5dJ2VU7BUX989IlxCBxATlILTh7L7aTY2zOxAGHnrJpkYclpEGKECW5i5tEA0FSc3Rfj5V2Ybd4cS5qK8bD6eiIX03qX5Xs944+H9mFGuHHrXPaspXCiceNpu+ADi9bHvnAQvCVRzoQo2MBmS6vXBXhYW5homWvriKI62BGgfF+LqLlDQnfMZcApJZ2Dj5YQVSiBx0TzI3bcsA+yxw6Hjv2Fg4r6R6HRM7lGZvGa1C8OVrFPLMVb/OnIDmcrVxTAHlwm7Io8C+GHFbo3pvuu8deVxMyHIXZrNoG0KuPJ4gC8tYQOeQ+Dnq0vMI2UztGf+69WpnRXQtHbpTwgXP0W8Hwqf0QQmx6chk/a9Zd0sb49EaXFj+mvbsmQjDdRSJYDfy1yusO8rKAc1azkqcGlokIrjX5UZcGTE221sQoNNWdwb0srSOpsr4Tsfr80vmmq6pI2JmjqCHOzsv2i9+04WL03KPZT3bbzhOe0CtTsDNSdovMtkTfh5PqTMs3xE1xFtaeIb2zSnKeCYkBdKKxFoZIPLwabam3NZt6tEp8qximTv/JD+6w0mjNpJ0zACuZJNwurSXxQD9C5gQUrqChL7s8CqsNxli9Qi/uUCF1EslCe/WNAapW+rtGpilPrwjVdu9D5dWe6Fyoi3j1qSJJKX2EhIlrZxbGoS9A/tsm34QAvw6hJod7qjpoVbQecyjoMzoNdNglcBRXxT01Qwwzmjl0Ow0KgMN2vU7yiGCN7kXYQhb0xwH6RcULt+Pjiy92MRLItho6e67XzInnM3aZ9HUxv+QJrjt2TfTfcFL95PqDW9gmRTIvaNgMbPt9nlv8e+NmIPUPFHyDjGXIf8q9407WYTwh837f+eQHaBJYbML/4z0C0Yqzbmc/RE+4SZO2LLXWIa/evjooCxHd4j18tk/6FX/iFX/iFX/iFvw8Sz69p/sXNJ/X/uU0r/8/AkB6WI5o4L+JOSbPuFWLnI9u8DQaGJirhKm3wl1oH/1H7xP/Ve+P2TRp+KlvYkFTBLloHPDicl/xX+Y4g99BgykW80NwosRtug0PjQ/tx05Yl+Hw33mTOXCoJe7tRXp7L+2aGfnjGtwViA6ScWNtsaMz29WOc7Weyw+FwTl7ncwjJIspwmtutAq+Cch7qi5afQF5xMs1yUsXOtNFUD0Ec7IRN3y4j/iZsyp4MsUJd+K0wiSKzZxZcXl6U3n6ICWaHjJI9Z6HeVgGj1n30lUNvxo6oDhldxlY5kW3baQH4B3Wb7++NDJDBSEeiJxQRDrGz2XJ3BTnVC6C1MwrxqX2HZ/PAlx+AuXUeDbuagfmyZymKydWekVctDHo4cNI67usLZRp0hbo3zkTSOuXidmhn9PXqiGWtidJtD0ZPzs2Btz1JwLEdtZ3lAHU1G0Neh7nRzSGJ650w3KoKvSL/sKhP3Pef2jKQGfV4L5dUHRrrWxRRhgRKTO9mIfpDh6pv3JCuEma12degdhhN2E7koflK3Wldkr2XFNmcmZBul0TE0goD5JmdZZm9GmuQ+0SQVotxL6lMV9BvyNOtp5XZTd0EFFkkT/2m3j4qu/R1+hR2G0rejswGXuqANCo3eu8ngFQa+VLZM5nzzWo/MgnabZy5Q9lMdKUua94RRV8sMCZ7uIklZgfNmE/FSQ2ZuPcxUWQEMK/hI7neA1HrO3ZXWGxPEEIHQBQyA6jOh/PJoznuXkMeMxbdGnB3UnOX0HlJBQqy0dZHwgxFnPcEHs/pINbWm36KCJ+hOHHfY/myPKwOy97bs6nr7mwow05/ZLdu91NLElIcYReu7dVeMs+VH0gla23ughtc5lQnrV39h4VVyPM8ny3oNiQ9V27qFdZm3swtb4P0laAkxDqHZSrzwQ7ThdXDNupetcSxeAc/AkYmfj/M9h4pG6tC5uI7PuySNjZxs+FkzFRwDg1Ul1eVWvjFydLC9juiCnmONcHs8LBNLOpS63PeqburdLh5wGnNMMEhUZILNpJkpc1821Clq3jcA9kBSJ/ZlsyRswLjl7gk8/5oRLdKJ9TPQCvPkReUcJygqGzfZ7VNGVt0upQeiIeZwtOykEgsCEfvnJL2QfzRLh6WBs/uvbXnp0kuH5wankW2qKoxj4YRk6K7Ap+rT+8eOOJW9U8OhhYep3s944O4UTb6GZu9lFJgt3S7zZwXZPEnSZETgArGquBqvqWgjh4wtFt9b1wpO/CqwB84wHtXTmIVuGvgMiCkHuyqfHk5uaSPIsXZgrGHdolMZdDs6ml5mdx/UdRQXzZ9abrkw2GqU/x5H3jNLaEKTKxCV17a0GtHwt7XZlDL0dUjrTbaEIO/CElUMpEEVZhozVzyRc21GyjyMMy8j9s87skcm3MdUTXbKFbEKqIauWYzKjAfnu2sd9P+jbAdkArDCTFDMCFjVLSpN9HU+WFdwp42H8NACvaE0IG3FobT5Qyd+FG2QSgytBaxLpSdH7Huz3o2Oo4rod5t3L7L602iWB3o+2dsH+/nkO7Xzrh3+qep+iPo/iV9F5+++w0bpNnXO1yy78P1VvyabRCnvyaEYenX35Wdu9Edx+ylznahVH6oUmQEOQTEgtN/5sxRSJw6pv0PrzbQsd/nUbBSm450D4PoxJRZKgfxf1viOEeBII1Fzde3clcjTHBn1CKrnMMSnIp4PwWabOn0HC81YIyL1KmtK+m+FGJ70pGi25d7lPUrgDKr35RGridr5zD7VKNLEPHnyoM/JAqvhVfDjhKDn1QnASIhCNoooCTlSp5XX5KKitrIkiwxjVB5X7giXQNjBWX4empjafJnejgUH1oqZTfCoFi49K6o2J6IooJK/Ie8NUjM2iRtz2aHKxm34+HLxANUjnwdEOB4blHd4+6zUdkenLGAf3NDe4jMTrrcPdFy3BbnCacGyOPdwS6uyx7sRBu6f0gSkhIjdcTXO9SSn+Qbdf2YtssHEKJI8HrVy3ErRHJ2rzK1qKKSTv1Bnhofiiaw+6i/MkHFpMheZpB7EzM0Jkn26GiHY1NXd5veNXIhNrGOknVRiD3TqB5jXRY4pG8rPJutENcu2bB+dD00qAkdtkTa4OYIDW+RrsPZ7WAPvBCDuTrR4dRBioxVP0soR/WkW9V8398rJzHYqS9R7ApOZtA3QWUwQNdz/pvscTIV03R5iHfvyqRx094o+xeRaKA+gMKeXtHjqFvl5o4SSu6DXCW5iq6MGL0XVInioDaCQrCK14mT0Yk4KTyXv5qWRRSb8xjT+9g8iSzMkmOf9MIN0UyFXcFn1tuc2fkh8f52CFzfj6bxxI+RuxT8mq+qY3xQZKs+je6X1LxGDmnCfQR+Uy+Rs6lN+fgqBs8ERydjo2lCJw08MOhtanTSftzl1GvbnCIvsW55zKUzqsVS9mNkxMlTL14FeQLF+byn1KUWnbHF9BLbThdfFF9Se4L3eiLMxTthZ+FD7R3K6/mNtvJsWZltd2E0azE8A1qsfdAWWtugDKLWtvjJMhWTiSQqTNXilmEVh22KPZYg+pAecCDT3h6UdyQdQlOwyjvj3cey4dTK5xVPedmwcq/lMGfYUNVxIP+0ikvo9nKPePVOyi5C6fkOp45W1qoAAAiTSURBVNk37ZBzmGA2maHCBavv8pyi/XI0NnGMHYQid/f1vJumYW1sRimzrS/r+h0xFBHysLTskmk7BjE8pJ1gS3SOUcmxAHnVKuEhnniv1F7M1qlYdqwXvRaSLEtgPkZa7ML8j0COv9knTI9jOis6wv/GCUkpjlVtrYoDDk1yTgHwTlCP7hrRycf81i/8c9j9bjj3C7/wC7/wC38ERxKYsdon0+2mP8C3neR/4QvAMbh4uzBsesm088owb2zS7mWfn9wmVFgmWv+tfugfV/qZ/xEd+k6+X1ATWSjzfX1o7BH7y+/Wutyoaq+2FCBEiW2oqHxf38JekNDnljk9mD4L0Q07JbBnxcIEVmusMHuQCFYqvm26ffyuld8c/oxDTO4LtukFSjpOQWeSX4AstdvivYmLIG42m60LR9U/LHp7p2Hbtgm0LQ5sZlEQvny73epgbndRBqX/salAD9GTJVote5bG4m0am66n7LoN8KY9bz5CXrCPiy1P1qi526HoB60aPnX5YbKbGPMpsnOFC1kXLK8+TUEQnTG5jjOBiMAjXaLwv3Shk4wIIZQAQtEibWW+lzDWKWunEwrEfhBomWfe9F9qrjL//cCqVbLH6IxbwJg16Rb5xR9XxAp2d+uN28aRO5dB8UFf9rBdl5odu3lNhyn8Ug3GRitFuwBYbbiM1mF+lyRPOYWfxmoWWD6SOxzujhM0OP3mu1QfEW3YYpNWl14/XedQmneq1Fj3+xLajii8vcTe0Nfq3FaMPDTs4E0wxd1p2X+f7lvqHFYP6lS6VDDT3J2S1Ypnk+7ihqKndA8d22AIapqljuPYq5zYvnTOGFY7e2S3PWke9MU+yrteFSGK98+dvlltpTVMc9AVklO/r8fyewhJu2Jw43MyqCJs0W2VtbWTWSsB89GhsZOU7WZm+vZdHQNBsnWoZ9VUUkY4NV7PSJGx6wWm4D47s/LVuyGNmCzpGUCehfllrfYiuGZZ1q7KrQ1wXMv1vRslwxkU+Hrn/nnv820/k4co/WJ1rC3S/XL63ZLffcbekHREWXYGMKFKbG+PCRV/LvGOCFGyREHXS3uMZtzabQrkg6wZOdSnm/w+rpBdHYX4evMxImbBwYWoqK5VrGbNuITMvIOtJ1AdDiyrOLabQsuvi679J6/SskMtTUzPkPjDzt9XSuU6g6PgfMx+D+X5fhPvjZm8Wb2Dda32/sIvQx3uxec1PC0XW/SVbNfU2M/QsEUpqewrktJDn9Y4pA358hyqrtizfTt4XWGeV5I2K64o3qYuHXYjCWaDTl3HEnM+LUgqVQzIjG5j0XfbmlpwD/C8OQS7rPXdTtH/nlXGEBg6ehqr3L078AFdN6GPGjJfzn0dR7JaP9RWozRNoxzKsvSczjPoXSRREtL0AA05DhWK5s2G1TyJbmUJ4PloHreKVlNGaZp0/sWCz/xWkPbokKf8xkw9RIVfvYv57De3SqDj4dn92gxMt5Ev80zQ8rETpznfV0mCvmeDj/wj5vvhkS68oB5Xjdirfewxfw6/172RO7hz19kXHM73C84NJ74zGpZN00JCpquc7I0yjIF7VXlnso4mmFn0IE1P8KjJ9SidfxPCOLg8q0OCT62+x+64hTDTh+x3Apf8PinuWWvAGJ5JObGpmIwuycmwT5PSmksK2SIxMZrJB+qoIqPwheKJYdAPhWhHtgFsuEThdaaWee1DIgZLzEAblgbMdp9TtltROAxN2GaPRWGW+unAkPPKKNe29d2jU1/SKlCxezP4qRgvLiAXnLfBmArLtLDGMdpMDrbD/3dwaavp8MzKSSdw2+vuMrFvQLCpXfOb8lYba1flDXR6ZIATN6VlcFo4sbepxeA+2ccHaAZiICpMHKfTT9Rjx02AmzPdxWjwoWkD+ozJDrFbbnXOADa6ntBYJ0V07+jTwFlw7uehoGlH0DtMAiZXZUg4pHmCspn3iKVATArKm5dFBYbWQqZLJJE7FKtk5gi2/LrGklOUy96mFkP7cy/vGiNAyTI7p7DWEcXO7IbK05ASIzE7nC7UN+tkyIqihAX1AvLcCD523cfkuEB9JQtNNh7ci2C4wSW/8ZnigYgiA69Jh3qe3EsuZLmUeC+K+3OxxzHphpdAUXeRgjihmBRYnFTMOFAnKZcoKqez15HbETK5cNImKXP7TUG0ma2P3kDUkBaEVUUVyXREyavqSrnK9p50rq9ai8p4dkRpmxt9vdB3KDXdz7mF8J5fb0fMkakWH8Y+1x1RvHDnHjVBfUU7020HogRkx/ZK7HfUPkCmmObogaq1pTiVqZMVLLti7LCqXDTN0nHwbpj+DwszQjbbG9ydTFvemZSdeBQTbs+8HjhVsziy5lQDpZzjjMilBzu3vusopQ0586jz/s+j5B/aYHRGDaIbZR+87k+9cpWd1K0409qwXfQZ25E+6OIwsKDbv1WOhyRZZ+J3BS/vs2euzxTX67tGcHgoNNjyEFxPH1S5zmsmnXEc2EWP+9kie433IMwX4KGPxU7HqUgtBUsKbm3zQoiUOerXkz3ejaMuVEFQdBmZoT4Lu8gVvlU5CouizekP9dLrQcUeqKwCOhpQwdFkKZ19zcK9D4w1lwQM/8ErB2NWSLpGC/anaQyVMFiXqcFwmKHuCM4bzm9e2EIbdYecCyy6dR6uyB8AUR9g7TEfO9GP3b72/tTOjHT7TkmZTkP2KV9+aEh6n2tdA/TRSLXOzxQ3aXN2xQGlS8pe14telTNjCYqSVhBxxOS9aom6R/MKdss8+4umZ5ruutYIs0hCcdPsDTPa+mfAB1LXcjHMBNfI3k321onYjXssvt1v23SHfY+kLwzRZxA1ijM35k4my7Nca5XjXBFQIKJ4d7m8LXN3TE6ZY5e+yEb+S8CboZHkEZinxe1f6kzybwbpy2nC5U3f1C/+wi/8wi/8wv81+C+iHpKXn8OEqwAAAABJRU5ErkJggg==)"
      ]
    },
    {
      "metadata": {
        "id": "T5d4dzjn7Yhv",
        "colab_type": "code",
        "colab": {}
      },
      "cell_type": "code",
      "source": [
        "data_transforms = transforms.Compose([\n",
        "    transforms.RandomAffine(15),\n",
        "    transforms.ToTensor()\n",
        "])"
      ],
      "execution_count": 0,
      "outputs": []
    },
    {
      "metadata": {
        "id": "Fj8Oso53F9Nh",
        "colab_type": "text"
      },
      "cell_type": "markdown",
      "source": [
        "####Setting up the path for training and testing dataset"
      ]
    },
    {
      "metadata": {
        "id": "gNwyG3rQ7e5O",
        "colab_type": "code",
        "colab": {}
      },
      "cell_type": "code",
      "source": [
        "%cd Workspace\n",
        "!mkdir save\n",
        "train_path = 'images_background'\n",
        "test_path = 'images_evaluation'\n",
        "train_dataset = dset.ImageFolder(root=train_path)\n",
        "test_dataset = dset.ImageFolder(root=test_path)\n",
        "%cd save\n",
        "SAVEPATH ='mario_a3c_params.pkl'"
      ],
      "execution_count": 0,
      "outputs": []
    },
    {
      "metadata": {
        "id": "JU4NfthmGDbP",
        "colab_type": "text"
      },
      "cell_type": "markdown",
      "source": [
        "###Loading the data and creating pairs for training with Affine distortions"
      ]
    },
    {
      "metadata": {
        "id": "BxYpJK987kOR",
        "colab_type": "code",
        "colab": {}
      },
      "cell_type": "code",
      "source": [
        "way = 20\n",
        "times = 400\n",
        "\n",
        "dataSet = OmniglotTrain(train_dataset, transform=data_transforms)\n",
        "testSet = OmniglotTest(test_dataset, transform=transforms.ToTensor(), times = times, way = way)\n",
        "testLoader = DataLoader(testSet, batch_size=way, shuffle=False, num_workers=1)\n",
        "\n",
        "dataLoader = DataLoader(dataSet, batch_size=128,\\\n",
        "                        shuffle=False, num_workers=1)"
      ],
      "execution_count": 0,
      "outputs": []
    },
    {
      "metadata": {
        "id": "Pvpj9BMjGvn1",
        "colab_type": "text"
      },
      "cell_type": "markdown",
      "source": [
        "###Plot of loss vs number of iterations \n",
        "The loss value is sampled after each 200 batches"
      ]
    },
    {
      "metadata": {
        "id": "ozvMkmmH9SJ3",
        "colab_type": "code",
        "colab": {}
      },
      "cell_type": "code",
      "source": [
        "def show_data_batch(sample_batched):\n",
        "    image_batch = sample_batched[0][0]\n",
        "    grid = torchvision.utils.make_grid(sample_batched)\n",
        "    plt.figure()\n",
        "    plt.imshow(grid.numpy().transpose((1, 2, 0)))\n",
        "    plt.title('Batch from dataloader')\n",
        "    plt.axis('off')\n",
        "    plt.show()"
      ],
      "execution_count": 0,
      "outputs": []
    },
    {
      "metadata": {
        "id": "gUeXztoNHqwW",
        "colab_type": "text"
      },
      "cell_type": "markdown",
      "source": [
        "##Loss function\n",
        "\n",
        "A regularized cross-entropy objective on our binary classifier\n",
        "\n",
        "##Optimizer\n",
        "Used a standarised Adam optimizer"
      ]
    },
    {
      "metadata": {
        "id": "bXFvRJoQ9VfL",
        "colab_type": "code",
        "colab": {}
      },
      "cell_type": "code",
      "source": [
        "loss_fn = torch.nn.BCEWithLogitsLoss(size_average=True)\n",
        "learning_rate = 0.00006\n",
        "net = Siamese()\n",
        "\n",
        "train_loss = []\n",
        "net.train()\n",
        "optimizer = torch.optim.Adam(net.parameters(),lr = learning_rate )\n",
        "optimizer.zero_grad()\n",
        "\n",
        "if cuda:\n",
        "    net.cuda()"
      ],
      "execution_count": 0,
      "outputs": []
    },
    {
      "metadata": {
        "id": "nM7isK_AOVvZ",
        "colab_type": "text"
      },
      "cell_type": "markdown",
      "source": [
        "###Setting up the parameters"
      ]
    },
    {
      "metadata": {
        "id": "Uj6pGUTHOUrK",
        "colab_type": "code",
        "colab": {}
      },
      "cell_type": "code",
      "source": [
        "show_every = 10\n",
        "save_every = 100\n",
        "test_every = 100\n",
        "train_loss = []\n",
        "loss_val = 0\n",
        "max_iter = 90000\n"
      ],
      "execution_count": 0,
      "outputs": []
    },
    {
      "metadata": {
        "id": "ZIm5D7SSOaef",
        "colab_type": "text"
      },
      "cell_type": "markdown",
      "source": [
        "###Training and testing after every 100 batch size"
      ]
    },
    {
      "metadata": {
        "id": "gkr494HiOSkp",
        "colab_type": "code",
        "colab": {}
      },
      "cell_type": "code",
      "source": [
        "for batch_id, (img1, img2, label) in enumerate(dataLoader, 1):\n",
        "    if batch_id > max_iter:\n",
        "        break\n",
        "    batch_start = time.time()\n",
        "    if cuda:\n",
        "        img1, img2, label = Variable(img1.cuda()), Variable(img2.cuda()), Variable(label.cuda())\n",
        "    else:\n",
        "        img1, img2, label = Variable(img1), Variable(img2), Variable(label)\n",
        "    optimizer.zero_grad()\n",
        "    output = net.forward(img1, img2)\n",
        "    loss = loss_fn(output, label)\n",
        "    loss_val += loss.data[0]\n",
        "    loss.backward()\n",
        "    optimizer.step()\n",
        "    if batch_id % show_every == 0 :\n",
        "        print('[%d]\\tloss:\\t%.5f\\tTook\\t%.2f s'%(batch_id, loss_val/show_every, (time.time() - batch_start)*show_every))\n",
        "        loss_val = 0\n",
        "    if batch_id % save_every == 0:\n",
        "        torch.save(net.state_dict(), SAVEPATH)\n",
        "    if batch_id % test_every == 0:\n",
        "        right, error = 0, 0\n",
        "        for _, (test1, test2) in enumerate(testLoader, 1):\n",
        "            if cuda:\n",
        "                test1, test2 = test1.cuda(), test2.cuda()\n",
        "            test1, test2 = Variable(test1), Variable(test2)\n",
        "            output = net.forward(test1, test2).data.cpu().numpy()\n",
        "            pred = np.argmax(output)\n",
        "            if pred == 0:\n",
        "                right += 1\n",
        "            else: error += 1\n",
        "        print('*'*70)\n",
        "        print('[%d]\\tright:\\t%d\\terror:\\t%d\\tprecision:\\t%f'%(batch_id, right, error, right*1.0/(right+error)))\n",
        "        print('*'*70)\n",
        "    train_loss.append(loss_val)\n",
        "#  learning_rate = learning_rate * 0.95\n",
        "\n",
        "with open('train_loss', 'wb') as f:\n",
        "    pickle.dump(train_loss, f)"
      ],
      "execution_count": 0,
      "outputs": []
    }
  ]
}